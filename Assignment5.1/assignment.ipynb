{
 "cells": [
  {
   "cell_type": "code",
   "execution_count": 4,
   "id": "9d31e964",
   "metadata": {},
   "outputs": [],
   "source": [
    "from bs4 import BeautifulSoup\n",
    "import requests\n",
    "from nltk.corpus import stopwords\n",
    "from nltk.tokenize import word_tokenize\n",
    "from num2words import num2words\n",
    "import numpy as np\n",
    "import pandas as pd\n",
    "import math"
   ]
  },
  {
   "cell_type": "code",
   "execution_count": 5,
   "id": "0ce2e82f",
   "metadata": {},
   "outputs": [],
   "source": [
    "def convert_lower_case(data):\n",
    "    return np.char.lower(data)\n",
    "\n",
    "\n",
    "def remove_stop_words(data):\n",
    "    stop_words = stopwords.words('english')\n",
    "    words = word_tokenize(str(data))\n",
    "    new_text = \"\"\n",
    "    for w in words:\n",
    "        if w not in stop_words and len(w) > 1:\n",
    "            new_text = new_text + \" \" + w\n",
    "    return new_text\n",
    "\n",
    "\n",
    "def remove_punctuation(data):\n",
    "    symbols = \"!\\\"#$%&()*+-./:;<=>?@[\\]^_`{|}~\\n\"\n",
    "    for i in range(len(symbols)):\n",
    "        data = np.char.replace(data, symbols[i], ' ')\n",
    "        data = np.char.replace(data, \"  \", \" \")\n",
    "    data = np.char.replace(data, ',', '')\n",
    "    return data\n",
    "\n",
    "\n",
    "def remove_apostrophe(data):\n",
    "    return np.char.replace(data, \"'\", \"\")\n",
    "\n",
    "\n",
    "def convert_numbers(data):\n",
    "    tokens = word_tokenize(str(data))\n",
    "    new_text = \"\"\n",
    "    for w in tokens:\n",
    "        try:\n",
    "            w = num2words(int(w))\n",
    "        except:\n",
    "            pass\n",
    "        new_text = new_text + \" \" + w\n",
    "    new_text = np.char.replace(new_text, \"-\", \" \")\n",
    "    return new_text\n",
    "\n",
    "\n",
    "def preprocess(data):\n",
    "    data = convert_lower_case(data)\n",
    "    data = remove_punctuation(data)  # remove comma separately\n",
    "    data = remove_apostrophe(data)\n",
    "    data = remove_stop_words(data)\n",
    "    data = convert_numbers(data)\n",
    "    data = remove_punctuation(data)\n",
    "    data = convert_numbers(data)\n",
    "    data = remove_punctuation(data)  # needed again as num2word is giving few hyphens and commas forty-one\n",
    "    return data"
   ]
  },
  {
   "cell_type": "code",
   "execution_count": 6,
   "id": "f5970b7d",
   "metadata": {},
   "outputs": [],
   "source": [
    "\n",
    "# code starts\n",
    "links = [\n",
    "    'https://en.wikipedia.org/wiki/Artificial_intelligence',\n",
    "    'https://en.wikipedia.org/wiki/Machine_learning',\n",
    "    'https://en.wikipedia.org/wiki/Intelligent_Systems',\n",
    "    'https://en.wikipedia.org/wiki/Expert_system',\n",
    "    'https://en.wikipedia.org/wiki/Parallel_computing',\n",
    "    'https://en.wikipedia.org/wiki/Dataflow_architecture',\n",
    "    'https://en.wikipedia.org/wiki/List_of_important_publications_in_concurrent,_parallel,_and_distributed_computing',\n",
    "    'https://en.wikipedia.org/wiki/List_of_distributed_computing_conferences',\n",
    "    'https://en.wikipedia.org/wiki/Content_Addressable_Parallel_Processor',\n",
    "    'https://en.wikipedia.org/wiki/Concurrency_(computer_science)',\n",
    "    \n",
    "]\n",
    "\n",
    "top_result = 10\n",
    "word_idf = {}\n",
    "words_ = set()\n",
    "document = []"
   ]
  },
  {
   "cell_type": "code",
   "execution_count": 7,
   "id": "143ca87e",
   "metadata": {},
   "outputs": [],
   "source": [
    "for article in links:\n",
    "    source = requests.get(article).text\n",
    "    soup = BeautifulSoup(source, 'lxml')\n",
    "    current_article = {}\n",
    "    for paragraph in soup.find_all('p'):\n",
    "        preprocessed_text = str(preprocess(paragraph.text))\n",
    "\n",
    "        for word in word_tokenize(preprocessed_text):\n",
    "            word = word.lower()\n",
    "            if word not in words_:\n",
    "                words_.add(word)\n",
    "            if not word:\n",
    "                continue\n",
    "            if word not in current_article:\n",
    "                current_article[word] = 0\n",
    "            current_article[word] += 1\n",
    "\n",
    "    document.append(current_article)\n",
    "\n",
    "n = len(document)"
   ]
  },
  {
   "cell_type": "code",
   "execution_count": 8,
   "id": "10ba83bd",
   "metadata": {},
   "outputs": [],
   "source": [
    "for word in words_:\n",
    "    is_found = 0\n",
    "    for article in document:\n",
    "        if word in article:\n",
    "            is_found += 1\n",
    "    word_idf[word] = math.log(n / is_found)\n",
    "\n",
    "tf_idf = []\n",
    "\n"
   ]
  },
  {
   "cell_type": "code",
   "execution_count": 9,
   "id": "e3c1ffec",
   "metadata": {},
   "outputs": [],
   "source": [
    "for word, idf in word_idf.items():\n",
    "    tdf_if_sum = 0\n",
    "    for article in document:\n",
    "        if word in article:\n",
    "            tdf_if_sum += word_idf[word] * article[word] / len(article)\n",
    "    tf_idf.append([word, tdf_if_sum])\n",
    "\n",
    "tf_idf.sort(key=lambda x: -x[1])\n",
    "\n",
    "top_rank = []\n",
    "for i in range(top_result):\n",
    "    top_rank.append([tf_idf[i][0], tf_idf[i][1]])\n",
    "\n",
    "top_rank.sort(key=lambda x: x[1])\n",
    "\n",
    "words = []\n",
    "values = []\n",
    "for i in range(top_result):\n",
    "    words.append(top_rank[i][0])\n",
    "    values.append(top_rank[i][1])"
   ]
  },
  {
   "cell_type": "code",
   "execution_count": 10,
   "id": "e134a5c6",
   "metadata": {},
   "outputs": [
    {
     "data": {
      "text/plain": [
       "<AxesSubplot:ylabel='words'>"
      ]
     },
     "execution_count": 10,
     "metadata": {},
     "output_type": "execute_result"
    },
    {
     "data": {
      "image/png": "[encoded data removed]",
      "text/plain": [
       "<Figure size 432x288 with 1 Axes>"
      ]
     },
     "metadata": {
      "needs_background": "light"
     },
     "output_type": "display_data"
    }
   ],
   "source": [
    "df = pd.DataFrame({'words': words, 'tf*idf': values})\n",
    "ax = df.plot.barh(x='words', y='tf*idf')\n",
    "ax"
   ]
  }
 ],
 "metadata": {
  "kernelspec": {
   "display_name": "Python 3 (ipykernel)",
   "language": "python",
   "name": "python3"
  },
  "language_info": {
   "codemirror_mode": {
    "name": "ipython",
    "version": 3
   },
   "file_extension": ".py",
   "mimetype": "text/x-python",
   "name": "python",
   "nbconvert_exporter": "python",
   "pygments_lexer": "ipython3",
   "version": "3.9.6"
  }
 },
 "nbformat": 4,
 "nbformat_minor": 5
}
